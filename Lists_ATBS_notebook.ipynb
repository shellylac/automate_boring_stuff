{
 "cells": [
  {
   "cell_type": "code",
   "execution_count": 22,
   "metadata": {},
   "outputs": [
    {
     "name": "stdout",
     "output_type": "stream",
     "text": [
      "cat\n",
      "['cat', 'bat', 'rat', 'elephant']\n",
      "['cat', 'bat', 'rat']\n",
      "The elephant is afraid of the bat.\n",
      "The elephant is afraid of the bat.\n",
      "The cat is afraid of the rat.\n"
     ]
    }
   ],
   "source": [
    "spam = ['cat', 'bat', 'rat', 'elephant']\n",
    "print(spam[0])\n",
    "print(spam)\n",
    "print(spam[:3])\n",
    "print('The ' + spam[-1] + ' is afraid of the ' + spam[-3] + '.')\n",
    "print('The %s is afraid of the %s.' % (spam[-1], spam[-3]))\n",
    "spam.reverse()\n",
    "print('The %s is afraid of the %s.' % (spam[-1], spam[-3]))\n"
   ]
  },
  {
   "cell_type": "code",
   "execution_count": 13,
   "metadata": {},
   "outputs": [
    {
     "data": {
      "text/plain": [
       "['cat', 'bat']"
      ]
     },
     "execution_count": 13,
     "metadata": {},
     "output_type": "execute_result"
    }
   ],
   "source": [
    "spam = [['cat', 'bat'], [10, 20, 30, 40, 50]]\n",
    "spam[0]\n",
    "spam[1][4]"
   ]
  },
  {
   "cell_type": "code",
   "execution_count": 11,
   "metadata": {},
   "outputs": [
    {
     "name": "stdout",
     "output_type": "stream",
     "text": [
      "3\n",
      "['cat', 'aardvark', 'rat', 'elephant']\n",
      "['cat', 'aardvark', 'rat', 12345, 'A', 'B', 'C']\n",
      "['cat', 'aardvark', 'rat', 12345, 'A', 'B', 'C', 'cat', 'aardvark', 'rat', 12345, 'A', 'B', 'C', 'cat', 'aardvark', 'rat', 12345, 'A', 'B', 'C']\n"
     ]
    }
   ],
   "source": [
    "spam = ['cat', 'dog', 'moose']\n",
    "print(len(spam))\n",
    "spam = ['cat', 'bat', 'rat', 'elephant']\n",
    "spam[1] = 'aardvark'\n",
    "print(spam)\n",
    "spam[-1] = 12345\n",
    "spam\n",
    "\n",
    "spam = spam + ['A', 'B', 'C']\n",
    "print(spam)\n",
    "print(spam * 3)"
   ]
  },
  {
   "cell_type": "code",
   "execution_count": 13,
   "metadata": {},
   "outputs": [
    {
     "data": {
      "text/plain": [
       "['cat', 'bat', 'elephant']"
      ]
     },
     "execution_count": 13,
     "metadata": {},
     "output_type": "execute_result"
    }
   ],
   "source": [
    "spam = ['cat', 'bat', 'rat', 'elephant']\n",
    "del spam[2]\n",
    "spam"
   ]
  },
  {
   "cell_type": "code",
   "execution_count": 21,
   "metadata": {},
   "outputs": [
    {
     "name": "stdout",
     "output_type": "stream",
     "text": [
      "fat, gray, loud\n"
     ]
    }
   ],
   "source": [
    "#The multiple assignment trick (technically called tuple unpacking) is a shortcut that lets you assign multiple variables with the values in a list in one line of code. \n",
    "\n",
    "# So instead of writing this:\n",
    "# cat = ['fat', 'gray', 'loud']\n",
    "# size = cat[0]\n",
    "# color = cat[1]\n",
    "# disposition = cat[2]\n",
    "\n",
    "# YOu cna do the same like this:\n",
    "cat = ['fat', 'gray', 'loud']\n",
    "size, color, disposition = cat\n",
    "print(size, color, disposition, sep= \", \")"
   ]
  },
  {
   "cell_type": "code",
   "execution_count": null,
   "metadata": {},
   "outputs": [],
   "source": [
    "supplies = ['pens', 'staplers', 'flamethrowers', 'binders']\n",
    "for i in range(len(supplies)):\n",
    "    print('Index ' + str(i) + ' in supplies is: ' + supplies[i])"
   ]
  },
  {
   "cell_type": "code",
   "execution_count": 23,
   "metadata": {},
   "outputs": [
    {
     "name": "stdout",
     "output_type": "stream",
     "text": [
      "Index 0 in supplies is: pens\n",
      "Index 1 in supplies is: staplers\n",
      "Index 2 in supplies is: flamethrowers\n",
      "Index 3 in supplies is: binders\n"
     ]
    }
   ],
   "source": [
    "# Using enumerate with a list in a lop[]\n",
    "# # On each iteration of the loop, enumerate() will return two values: the index of the item in the list, and the item in the list itself. \n",
    "\n",
    "supplies = ['pens', 'staplers', 'flamethrowers', 'binders']\n",
    "for index, item in enumerate(supplies):\n",
    "    print('Index ' + str(index) + ' in supplies is: ' +  item)\n"
   ]
  },
  {
   "cell_type": "code",
   "execution_count": 32,
   "metadata": {},
   "outputs": [
    {
     "name": "stdout",
     "output_type": "stream",
     "text": [
      "Dog\n"
     ]
    },
    {
     "data": {
      "text/plain": [
       "['Alice', 'Bob', 'David', 'Carol']"
      ]
     },
     "execution_count": 32,
     "metadata": {},
     "output_type": "execute_result"
    }
   ],
   "source": [
    "import random\n",
    "pets = ['Dog', 'Cat', 'Moose']\n",
    "print(random.choice(pets))\n",
    "\n",
    "people = ['Alice', 'Bob', 'Carol', 'David']\n",
    "random.shuffle(people)\n",
    "people"
   ]
  },
  {
   "cell_type": "code",
   "execution_count": 42,
   "metadata": {},
   "outputs": [
    {
     "name": "stdout",
     "output_type": "stream",
     "text": [
      "52\n",
      "53\n"
     ]
    }
   ],
   "source": [
    "spam = 42\n",
    "spam = spam + 10\n",
    "print(spam)\n",
    "\n",
    "spam += 1 \n",
    "# spam = spam += 1 # can't be used with an assignment, =, operator! self assignment\n",
    "# print(spam += 1) # can't print this either??\n",
    "print(spam)"
   ]
  },
  {
   "cell_type": "code",
   "execution_count": null,
   "metadata": {},
   "outputs": [],
   "source": [
    "# List Methods - lists are modified IN PLACE\n",
    "# so don't get assigned to a variable\n",
    "spam = ['hello', 'hi', 'howdy', 'heyas']\n",
    "print(spam.index('hello'))\n",
    "\n",
    "\n",
    "spam = ['Zophie', 'Pooka', 'Fat-tail', 'Pooka']\n",
    "print(spam.index('Pooka'))\n",
    "\n",
    "spam = ['cat', 'dog', 'bat']\n",
    "spam.append('moose')\n",
    "spam.insert(1, 'chicken')\n",
    "spam.remove('bat')\n",
    "print(spam)\n",
    "\n",
    "spam = ['cat', 'bat', 'rat', 'cat', 'hat', 'cat']\n",
    "spam.remove('cat') # only first occurrence removed\n",
    "print(spam)\n",
    "\n",
    "spam = [2, 5, 3.14, 1, -7]\n",
    "spam.sort(reverse=True)\n",
    "print(spam)\n",
    "\n",
    "spam = ['a', 'z', 'A', 'Z']\n",
    "spam.sort(key=str.lower) # Sort by true alphabetical rather than ASCIIaplphabetica order\n",
    "print(spam)\n"
   ]
  },
  {
   "cell_type": "code",
   "execution_count": 53,
   "metadata": {},
   "outputs": [
    {
     "name": "stdout",
     "output_type": "stream",
     "text": [
      "9\n",
      "Concentrate and ask again\n"
     ]
    }
   ],
   "source": [
    "# Magic Ball - using a list input and random choice\n",
    "import random\n",
    "\n",
    "messages = ['It is certain',\n",
    "    'It is decidedly so',\n",
    "    'Yes definitely',\n",
    "    'Reply hazy try again',\n",
    "    'Ask again later',\n",
    "    'Concentrate and ask again',\n",
    "    'My reply is no',\n",
    "    'Outlook not so good',\n",
    "    'Very doubtful']\n",
    "\n",
    "print(messages[random.randint(0, len(messages) - 1)])"
   ]
  },
  {
   "cell_type": "code",
   "execution_count": 54,
   "metadata": {},
   "outputs": [
    {
     "name": "stdout",
     "output_type": "stream",
     "text": [
      "[0, 'Hello!', 2, 3, 4, 5]\n",
      "[0, 'Hello!', 2, 3, 4, 5]\n"
     ]
    }
   ],
   "source": [
    "spam = [0, 1, 2, 3, 4, 5]\n",
    "cheese = spam # The reference is being copied, not the list.\n",
    "cheese[1] = 'Hello!' # This changes the list value.\n",
    "print(spam)\n",
    "print(cheese) # The cheese variable refers to the same list.\n"
   ]
  },
  {
   "cell_type": "code",
   "execution_count": 5,
   "metadata": {},
   "outputs": [
    {
     "name": "stdout",
     "output_type": "stream",
     "text": [
      "1756825718672\n",
      "Hello world!\n"
     ]
    }
   ],
   "source": [
    "# Identity and the id funciton\n",
    "id('Howdy')\n",
    "bacon = 'Hello'\n",
    "print(id(bacon))\n",
    "bacon += ' world!' # A new string is made from 'Hello' and ' world!'.\n",
    "print(bacon)\n",
    "print(id(bacon))"
   ]
  },
  {
   "cell_type": "code",
   "execution_count": 14,
   "metadata": {},
   "outputs": [
    {
     "data": {
      "text/plain": [
       "[3.14, 'something', 'cat', 11, 'cat', True, 99]"
      ]
     },
     "execution_count": 14,
     "metadata": {},
     "output_type": "execute_result"
    }
   ],
   "source": [
    "spam = ['a', 'b', 'c', 'd']\n",
    "spam[int(int('3' * 2) // 11)] \n",
    "spam[-1]\n",
    "spam[:2]\n",
    "bacon = [3.14, 'cat', 11, 'cat', True]\n",
    "bacon.index('cat')\n",
    "bacon.append(99)\n",
    "bacon.insert(1, 'something')\n",
    "bacon"
   ]
  },
  {
   "cell_type": "code",
   "execution_count": 2,
   "metadata": {},
   "outputs": [
    {
     "data": {
      "text/plain": [
       "'apples, bananas, tofu, cats, 2, 3, and something.'"
      ]
     },
     "execution_count": 2,
     "metadata": {},
     "output_type": "execute_result"
    }
   ],
   "source": [
    "def list_to_string(list):\n",
    "    if len(list) == 0:\n",
    "        print('The list cannot be empty.')\n",
    "        return\n",
    "    my_string = ''\n",
    "    for i in range(len(list)):\n",
    "        if i == int(len(list)-2):\n",
    "            my_string += str(list[i]) + \", and \"\n",
    "        elif i == int(len(list)-1):\n",
    "            my_string += str(list[i]) + \".\"\n",
    "        else:\n",
    "            my_string += str(list[i]) + \", \"\n",
    "    return my_string\n",
    "\n",
    "\n",
    "spam = ['apples', 'bananas', 'tofu', 'cats', 2, 3, \"something\"]\n",
    "spam2 = []\n",
    "list_to_string(spam)\n",
    "# list_to_string(spam2)\n"
   ]
  },
  {
   "cell_type": "code",
   "execution_count": 15,
   "metadata": {},
   "outputs": [
    {
     "name": "stdout",
     "output_type": "stream",
     "text": [
      "Chance of streak: 77.66%\n"
     ]
    }
   ],
   "source": [
    "import random\n",
    "numberOfStreaks = 0\n",
    "streak = 0\n",
    "for experimentNumber in range(10000):\n",
    "    # Code that creates a list of 100 'heads' or 'tails' values.\n",
    "    flip_list = []\n",
    "    for flip in range(100):\n",
    "        flip = random.randint(0,1)\n",
    "        flip_list.append(flip)\n",
    "    \n",
    "    # Code that checks if there is a streak of 6 heads or tails in a row.\n",
    "    for i in range(len(flip_list)):\n",
    "        if flip_list[i] == flip_list[i-1]:  #checks if current list item is the same as before\n",
    "            streak += 1 \n",
    "        else:\n",
    "            streak = 0\n",
    "\n",
    "        if streak == 6:\n",
    "            numberOfStreaks += 1\n",
    "print('Chance of streak: %s%%' % (numberOfStreaks / 100))"
   ]
  }
 ],
 "metadata": {
  "kernelspec": {
   "display_name": "my_venv",
   "language": "python",
   "name": "python3"
  },
  "language_info": {
   "codemirror_mode": {
    "name": "ipython",
    "version": 3
   },
   "file_extension": ".py",
   "mimetype": "text/x-python",
   "name": "python",
   "nbconvert_exporter": "python",
   "pygments_lexer": "ipython3",
   "version": "3.12.0"
  }
 },
 "nbformat": 4,
 "nbformat_minor": 2
}

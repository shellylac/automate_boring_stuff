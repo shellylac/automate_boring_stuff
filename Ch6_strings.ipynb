{
 "cells": [
  {
   "cell_type": "code",
   "execution_count": 5,
   "metadata": {},
   "outputs": [],
   "source": [
    "from IPython.core.interactiveshell import InteractiveShell\n",
    "InteractiveShell.ast_node_interactivity = \"all\""
   ]
  },
  {
   "cell_type": "code",
   "execution_count": null,
   "metadata": {},
   "outputs": [],
   "source": [
    "print(\"Hello there!\\nHow are you?\\nI\\'m doing fine.\")\n",
    "\n",
    "# Our to use a raw string (ignores all escape characters)\n",
    "print(r'That is Carol\\'s cat.')\n",
    "\n",
    "#Multiline Strings with Triple Quotes\n",
    "# note that escaping single quotes is not necessary!!\n",
    "print('''Dear Alice,\n",
    "\n",
    "Eve's cat has been arrested for catnapping, cat burglary, and extortion.\n",
    "\n",
    "Sincerely,\n",
    "Bob''')\n"
   ]
  },
  {
   "cell_type": "code",
   "execution_count": null,
   "metadata": {},
   "outputs": [],
   "source": [
    "# Multiline comments\n",
    "\"\"\"This is a test Python program.\n",
    "\n",
    "This program was designed for Python 3, not Python 2.\n",
    "\"\"\"\n",
    "\n",
    "def spam():\n",
    "    \"\"\"This is a multiline comment to help\n",
    "    explain what the spam() function does.\"\"\"\n",
    "    print('Hello!')"
   ]
  },
  {
   "cell_type": "code",
   "execution_count": null,
   "metadata": {},
   "outputs": [],
   "source": [
    "# Indexing and Sclicing\n",
    "spam = 'Hello, world!'\n",
    "spam[0]\n",
    "spam[7:]\n",
    "spam[-1]"
   ]
  },
  {
   "cell_type": "code",
   "execution_count": null,
   "metadata": {},
   "outputs": [],
   "source": [
    "#IN and NOT\n",
    "'Hello' in 'Hello, World'\n",
    "'cats' not in 'cats and dogs'"
   ]
  },
  {
   "cell_type": "code",
   "execution_count": null,
   "metadata": {},
   "outputs": [],
   "source": [
    "# string interpolation\n",
    "name = 'Al'\n",
    "age = 4000\n",
    "'My name is %s. I am %s years old.' % (name, age)\n",
    "\n",
    "# f-strings (introduced int Python 3.6)\n",
    "f'My name is {name}. Next year I will be {age + 1}.'"
   ]
  },
  {
   "cell_type": "code",
   "execution_count": null,
   "metadata": {},
   "outputs": [],
   "source": [
    "# string methods\n",
    "# upper(), lower(), isupper(), islower()\n",
    "# these methods do not change the string itself but return new string values - # span.upper() doesn't change the value of span (unless assigned back to spam).\n",
    "spam = 'Hello, world!'\n",
    "spam = spam.upper()\n",
    "spam\n",
    "\n",
    "spam = spam.lower()\n",
    "spam\n",
    "\n",
    "spam = 'Hello, world!'\n",
    "spam.islower()\n",
    "\n",
    "'abc12345'.islower() #returns TRUE\n",
    "\n",
    "'12345'.islower() #returns FALSE\n",
    "'12345'.isupper() #returns FALSE\n",
    "\n",
    "# because the methods return strings you can pipe together other string methods \n",
    "'Hello'.upper().lower()\n",
    "'Hello'.upper().islower()"
   ]
  },
  {
   "cell_type": "code",
   "execution_count": 17,
   "metadata": {},
   "outputs": [
    {
     "name": "stdout",
     "output_type": "stream",
     "text": [
      "How are you?\n",
      "I hope the rest of your day is good.\n"
     ]
    }
   ],
   "source": [
    "# Example for making a case insensitive string comparison:\n",
    "print('How are you?')\n",
    "feeling = input()\n",
    "if feeling.lower() == 'great':\n",
    "    print('I feel great too.')\n",
    "else:\n",
    "    print('I hope the rest of your day is good.')"
   ]
  },
  {
   "cell_type": "code",
   "execution_count": null,
   "metadata": {},
   "outputs": [],
   "source": [
    "# The isX() Methods\n",
    "# isalpha() True if string consists only of letters and isn’t blank\n",
    "# isalnum() True if string consists only of letters & numbers & isnt blank\n",
    "# isdecimal() True if string consists only of numbers and is not blank\n",
    "# isspace() True if string consists only of spaces, tabs, and newlines and is not blank\n",
    "# istitle() True if string consists only of words that begin with an uppercase letter followed by only lowercase letters\n",
    "'hello'.isalpha()\n",
    "'hello123'.isalpha()\n",
    "'hello123'.isalnum()\n",
    "'hello'.isalnum()\n",
    "'123'.isdecimal()\n",
    "'    '.isspace()\n",
    "'This Is Title Case'.istitle()\n",
    "'This Is Title Case 123'.istitle()\n",
    "'This Is not Title Case'.istitle()\n",
    "'This Is NOT Title Case Either'.istitle()"
   ]
  },
  {
   "cell_type": "code",
   "execution_count": 19,
   "metadata": {},
   "outputs": [
    {
     "name": "stdout",
     "output_type": "stream",
     "text": [
      "Enter your age:\n",
      "Select a new password (letters and numbers only):\n",
      "654\n"
     ]
    }
   ],
   "source": [
    "# How to use these to validate function input\n",
    "while True:\n",
    "    print('Enter your age:')\n",
    "    age = input()\n",
    "    if age.isdecimal():\n",
    "        break\n",
    "    print('Please enter a number for your age.')\n",
    "\n",
    "while True:\n",
    "    print('Select a new password (letters and numbers only):')\n",
    "    password = input()\n",
    "    if password.isalnum():\n",
    "        break\n",
    "    print('Passwords can only have letters and numbers.')\n",
    "\n",
    "print(password)"
   ]
  },
  {
   "cell_type": "code",
   "execution_count": null,
   "metadata": {},
   "outputs": [],
   "source": [
    "# The startswith() and endswith() Methods\n",
    "'Hello, world!'.startswith('Hello')\n",
    "'Hello, world!'.startswith('Hello, world')\n",
    "'Hello, world!'.startswith('Hello, world*')"
   ]
  },
  {
   "cell_type": "code",
   "execution_count": null,
   "metadata": {},
   "outputs": [],
   "source": [
    "# The join() and split() Methods\n",
    "# The join() method is **called on a string**, gets passed a list of strings, and returns a string.\n",
    "', '.join(['cats', 'rats', 'bats'])\n",
    "' '.join(['My', 'name', 'is', 'Simon'])\n",
    "'ABC'.join(['My', 'name', 'is', 'Simon'])\n"
   ]
  },
  {
   "cell_type": "code",
   "execution_count": null,
   "metadata": {},
   "outputs": [],
   "source": [
    "# Splitting Strings with split() and the partition() Method\n",
    "# The split() method does the opposite (and returns a list of strings, default split by whitespace)\n",
    "'My name is Simon'.split()\n",
    "'0-4-3-2-1'.split('-')\n",
    "\n",
    "spam = '''Dear Alice,\n",
    "How have you been? I am fine.\n",
    "There is a container in the fridge\n",
    "that is labeled \"Milk Experiment.\"\n",
    "\n",
    "Please do not drink it.\n",
    "Sincerely,\n",
    "Bob'''\n",
    "# Use split to extract each line - returns a list - including blank lines\n",
    "spam.split('\\n')\n",
    "\n",
    "# partition() - splits into before, separator, after (3 item list)\n",
    "# first instance of the separator is used to separate\n",
    "'Hello, world!'.partition('w')\n",
    "'Hello, world!'.partition('world')\n",
    "\n",
    "#You can use the multiple assignment trick to assign the three returned strings to three variables:\n",
    "before, sep, after = 'Hello, world!'.partition(' ')\n",
    "\n",
    "# If the separator string can’t be found, the first string returned in the tuple will be the entire string, and the other two strings will be empty:\n",
    "'Hello, world!'.partition('XYZ')\n"
   ]
  },
  {
   "cell_type": "code",
   "execution_count": null,
   "metadata": {},
   "outputs": [],
   "source": [
    "# Justifying Text with the rjust(), ljust(), and center() Methods\n",
    "'Hello'.rjust(10) # '     Hello'\n",
    "'Hello'.rjust(20) #'              Hello'\n",
    "'Hello, World'.rjust(20) #'         Hello, World'\n",
    "'Hello'.ljust(10) #'Hello     '\n",
    "'Hello'.rjust(20, '*') #'***************Hello'\n",
    "'Hello'.center(20) #'       Hello        '\n",
    ">>> 'Hello'.center(20, '=') #'=======Hello========'"
   ]
  },
  {
   "cell_type": "code",
   "execution_count": null,
   "metadata": {},
   "outputs": [],
   "source": [
    "# Removing Whitespace with the strip(), rstrip(), and lstrip() Methods\n",
    "spam = '    Hello, World    '\n",
    "spam.strip() # 'Hello, World'\n",
    "spam.lstrip() #'Hello, World    '\n",
    "spam.rstrip() #'    Hello, World'\n",
    "\n",
    "# another way to use this\n",
    "spam = 'SpamSpamBaconSpamEggsSpamSpam'\n",
    "spam.strip('ampS') # strips from both ends by default\n",
    "spam.strip('amSp') # order of letters stripped doesn't matter"
   ]
  },
  {
   "cell_type": "code",
   "execution_count": null,
   "metadata": {},
   "outputs": [],
   "source": [
    "# Copying and Pasting Strings with the pyperclip Module\n",
    "# The pyperclip module has copy() and paste() functions that can send text to and receive text from your computer’s clipboard."
   ]
  }
 ],
 "metadata": {
  "kernelspec": {
   "display_name": "my_venv",
   "language": "python",
   "name": "python3"
  },
  "language_info": {
   "codemirror_mode": {
    "name": "ipython",
    "version": 3
   },
   "file_extension": ".py",
   "mimetype": "text/x-python",
   "name": "python",
   "nbconvert_exporter": "python",
   "pygments_lexer": "ipython3",
   "version": "3.12.0"
  }
 },
 "nbformat": 4,
 "nbformat_minor": 2
}
